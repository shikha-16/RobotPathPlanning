{
 "cells": [
  {
   "cell_type": "markdown",
   "metadata": {},
   "source": [
    "# Rapidly exploring Random Trees\n",
    "\n",
    "The premise of RRT is actually quite straight forward. Points are randomly generated and connected to the closest available node. Each time a vertex is created, a check must be made that the vertex lies outside of an obstacle. Furthermore, chaining the vertex to its closest neighbor must also avoid obstacles. The algorithm ends when a node is generated within the goal region, or a limit is hit."
   ]
  },
  {
   "cell_type": "code",
   "execution_count": 1,
   "metadata": {},
   "outputs": [],
   "source": [
    "import matplotlib.pyplot as plt\n",
    "import matplotlib.path as mpltPath\n",
    "import math\n",
    "import random\n",
    "from shapely.geometry import Point, MultiPoint\n",
    "from shapely.geometry import Polygon, MultiPolygon, LineString"
   ]
  },
  {
   "cell_type": "markdown",
   "metadata": {},
   "source": [
    "## RRT Pseudo Code\n",
    "\n",
    "    Qgoal #region that identifies success\n",
    "    Counter = 0 #keeps track of iterations\n",
    "    lim = n #number of iterations algorithm should run for\n",
    "    G(V,E) #Graph containing edges and vertices, initialized as empty\n",
    "    \n",
    "    While counter < lim:\n",
    "\n",
    "        Xnew  = RandomPosition()\n",
    "        if IsInObstacle(Xnew) == True:\n",
    "            continue\n",
    "        Xnearest = Nearest(G(V,E),Xnew) //find nearest vertex\n",
    "        Link = Chain(Xnew,Xnearest)\n",
    "        G.append(Link)\n",
    "        if Xnew in Qgoal:\n",
    "            Return G\n",
    "            \n",
    "    Return G\n",
    "    \n",
    "    \n",
    "So let's get started on our implementation. The first thing we will define is the tree class."
   ]
  },
  {
   "cell_type": "markdown",
   "metadata": {},
   "source": [
    "## Trees\n",
    "A tree is a widely used abstract data type that simulates a hierarchical tree structure, with a root value and subtrees of children with a parent node, represented as a set of linked nodes.\n",
    "\n",
    "A tree data structure can be defined recursively as a collection of nodes (starting at a root node), where each node is a data structure consisting of a value, together with a list of references to nodes (the \"children\"), with the constraints that no reference is duplicated, and none points to the root."
   ]
  },
  {
   "cell_type": "code",
   "execution_count": 2,
   "metadata": {},
   "outputs": [],
   "source": [
    "#tree structure definition\n",
    "class Tree():\n",
    "\n",
    "    def __init__(self, data = Point(0,0), children=None, par=None):\n",
    "        self.data = data\n",
    "        self.children = []\n",
    "        if children is not None:\n",
    "            for child in children:\n",
    "                self.add_child(child)\n",
    "        self.par = par\n",
    "\n",
    "    def add_child(self, node):\n",
    "        self.children.append(node)\n",
    "        node.par = self\n",
    "                \n",
    "    def __str__(self, level=0):\n",
    "        ret = \"\\t\"*level+repr(self.data.x)+\" \"+repr(self.data.y)+\"\\n\"\n",
    "        for child in self.children:\n",
    "            ret += child.__str__(level+1)\n",
    "        return ret\n",
    "\n",
    "    def __repr__(self):\n",
    "        return '<tree node representation>'\n",
    "\n",
    "    #to trace final path\n",
    "    def tb(self, n):\n",
    "        ax = []\n",
    "        ay = []\n",
    "        ax.append(n.data.x)\n",
    "        ay.append(n.data.y)\n",
    "        while n.data != self.data:\n",
    "            n = n.par\n",
    "            ax.append(n.data.x)\n",
    "            ay.append(n.data.y)\n",
    "        return ax,ay"
   ]
  },
  {
   "cell_type": "markdown",
   "metadata": {},
   "source": [
    "## Functions useful for implementation\n",
    "\n",
    "We will first write the functions that will be used in our main RRT implementation code. They are as follows -\n",
    "\n",
    "1. Define goal region and obstacles\n",
    "2. Check if randomly generated point is in obstacle\n",
    "3. Find distance between two points\n",
    "4. Find nearest node to randomly generated point\n",
    "5. Link the nearest node and current point"
   ]
  },
  {
   "cell_type": "code",
   "execution_count": 3,
   "metadata": {},
   "outputs": [],
   "source": [
    "#defining obstacles as a set of polygons\n",
    "def obst(arr):\n",
    "    ans = list()\n",
    "    for coord in arr:\n",
    "        m = Polygon(coord)\n",
    "        ans.append(m)\n",
    "    t = MultiPolygon(ans)\n",
    "    return t\n",
    "\n",
    "#defining goal region as polygon\n",
    "def dgoal(coord):\n",
    "    m = Polygon(coord)\n",
    "    t = MultiPolygon([m])\n",
    "    return t\n",
    "\n",
    "\n",
    "#check if point is within polygon\n",
    "def IsInObstacle(arr,pt):\n",
    "    for i in arr.geoms:\n",
    "        if i.contains(pt):\n",
    "            return True\n",
    "    return False"
   ]
  },
  {
   "cell_type": "code",
   "execution_count": 4,
   "metadata": {},
   "outputs": [],
   "source": [
    "#distance between two points\n",
    "def distance(pt1, pt2):\n",
    "    ans = math.sqrt((pt1.x-pt2.x)**2 + (pt1.y-pt2.y)**2)\n",
    "    return ans\n",
    "\n",
    "#finding nearest neighbour\n",
    "def nearestNode(node, root, mind):\n",
    "    d = distance(root.data, node.data)\n",
    "    if d < mind:\n",
    "        mind = d\n",
    "        \n",
    "    ans = root\n",
    "    for i in root.children:\n",
    "        d = nearestNode(node, i, mind)\n",
    "        if d[0] < mind:\n",
    "            mind = d[0]\n",
    "            ans = d[1]\n",
    "    return mind, ans\n",
    "\n",
    "#linking new point to existing tree\n",
    "def chain(node1, node2):\n",
    "    node1.add_child(node2)\n",
    "    return node2\n"
   ]
  },
  {
   "cell_type": "markdown",
   "metadata": {},
   "source": [
    "## Implementation of RRT"
   ]
  },
  {
   "cell_type": "code",
   "execution_count": 5,
   "metadata": {},
   "outputs": [],
   "source": [
    "def RRT(start,goal,obstacle_list):\n",
    "    '''\n",
    "    Your RRT code goes here\n",
    "\n",
    "    The search space will be a rectangular space defined by\n",
    "    (0,0),(0,10),(10,0),(10,10)\n",
    "\n",
    "    Args:\n",
    "        start(tuple):start point coordinates.\n",
    "        goal (tuple):end point coordinates.\n",
    "        obstacle_list (list): list of all obstacles in the envrionment.\n",
    "\n",
    "    Returns:\n",
    "        path: You are free to decide what data structure used here.\n",
    "    '''\n",
    "    goalr = [(goal[0]-0.3,goal[1]-0.3),(goal[0]+0.3,goal[1]-0.3), (goal[0]+0.3,goal[1]+0.3), (goal[0]-0.3,goal[1]+0.3)]\n",
    "    Qgoal = dgoal(goalr)\n",
    "\n",
    "    obstacles = obst(obstacle_list)\n",
    "    \n",
    "    cnt = 0 \n",
    "    graph = Tree(Point(start[0],start[1])) #Graph containing edges and vertices, initialized as empty\n",
    "    \n",
    "    while cnt<5000:\n",
    "        \n",
    "        x  = random.random()*10\n",
    "        y  = random.random()*10\n",
    "        p = Point(x,y)\n",
    "        xnew = Tree(p)\n",
    "        \n",
    "        if IsInObstacle(obstacles,p):\n",
    "            continue\n",
    "            \n",
    "        n = nearestNode(xnew,graph,10**6) #find nearest vertex\n",
    "        line = LineString([n[1].data,p])\n",
    "\n",
    "        if n[0]>=1:\n",
    "            p = line.interpolate(1)\n",
    "            x = p.x\n",
    "            y = p.y\n",
    "            line = LineString([n[1].data,p])\n",
    "            \n",
    "        if line.crosses(obstacles):\n",
    "            continue\n",
    "            \n",
    "        last = chain(n[1],xnew)\n",
    "        \n",
    "        if IsInObstacle(Qgoal,p):\n",
    "            print(\"Found it!\")\n",
    "            return graph.tb(last),Qgoal\n",
    "\n",
    "        cnt+=1\n",
    "\n",
    "    return graph.tb(last),Qgoal\n",
    "\n",
    "\n",
    "\n",
    "def visualize(path,obstacle_list,Qgoal):\n",
    "\n",
    "    '''\n",
    "    The matplot code required to visulaize both the path and obstacles in\n",
    "    the environment go here.\n",
    "\n",
    "    Args:\n",
    "        path: Same as used in RRT function.\n",
    "        obstacle_list (list): list of all obstacles in the envrionment.\n",
    "\n",
    "    Returns: \n",
    "        None\n",
    "    '''\n",
    "\n",
    "    plt.figure()\n",
    "\n",
    "    plt.plot(path[0],path[1],\"b.-\")\n",
    "\n",
    "    m = obst(obstacle_list)\n",
    "    for i in m:\n",
    "        x,y = i.exterior.xy\n",
    "        plt.plot(x,y,\"black\")\n",
    "\n",
    "    for i in Qgoal:\n",
    "        x,y = i.exterior.xy\n",
    "        plt.plot(x,y,\"red\")\n",
    "\n",
    "    plt.show()\n"
   ]
  },
  {
   "cell_type": "markdown",
   "metadata": {},
   "source": [
    "Let's test our implementation. In the following cell I will provide my own start and goal region, as well as an obstacle set. The code will give an ouput of the whole region and the path it found."
   ]
  },
  {
   "cell_type": "code",
   "execution_count": 6,
   "metadata": {},
   "outputs": [
    {
     "name": "stdout",
     "output_type": "stream",
     "text": [
      "Found it!\n"
     ]
    },
    {
     "data": {
      "image/png": "[encoded data removed]",
      "text/plain": [
       "<Figure size 432x288 with 1 Axes>"
      ]
     },
     "metadata": {
      "needs_background": "light"
     },
     "output_type": "display_data"
    }
   ],
   "source": [
    "def test_rrt():\n",
    "    \n",
    "    obstacle_list = [\n",
    "            [(2, 10), (7, 10), (6, 7), (4, 7), (4, 9), (2, 9)],\n",
    "            [(3, 1), (3, 6), (4, 6), (4, 1)],\n",
    "            [(7, 3), (7, 8), (9, 8), (9, 3)],\n",
    "        ]\n",
    "\n",
    "    start = (1, 1)\n",
    "    goal = (10, 10)\n",
    "    \n",
    "    path = RRT(start,goal,obstacle_list)\n",
    "     \n",
    "    visualize(path[0],obstacle_list,path[1])\n",
    "\n",
    "test_rrt()"
   ]
  },
  {
   "cell_type": "markdown",
   "metadata": {},
   "source": [
    "The benefit of the algorithm is its speed and implementation. Compared to other path planning algorithms, RRT is fairly quick. The costliest part of the algorithm is finding its closest neighbor as this process grows depending on the number of vertices that have been generated."
   ]
  },
  {
   "cell_type": "markdown",
   "metadata": {},
   "source": [
    "## RRT*\n",
    "\n",
    "RRT* is an optimized version of RRT. When the number of nodes approaches infinity, the RRT* algorithm will deliver the shortest possible path to the goal. While realistically unfeasible, this statement suggests that the algorithm does work to develop a shortest path. The basic principle of RRT* is the same as RRT, but two key additions to the algorithm result in significantly different results.\n",
    "\n",
    "First, RRT* records the distance each vertex has traveled relative to its parent vertex. This is referred to as the cost()of the vertex. After the closest node is found in the graph, a neighborhood of vertices in a fixed radius from the new node are examined. If a node with a cheaper cost() than the proximal node is found, the cheaper node replaces the proximal node. The effect of this feature can be seen with the addition of fan shaped twigs in the tree structure. The cubic structure of RRT is eliminated.\n",
    "\n",
    "The second difference RRT* adds is the rewiring of the tree. After a vertex has been connected to the cheapest neighbor, the neighbors are again examined. Neighbors are checked if being rewired to the newly added vertex will make their cost decrease. If the cost does indeed decrease, the neighbor is rewired to the newly added vertex. This feature makes the path more smooth.\n",
    "\n",
    "\n",
    "RRT* Pseudo Code\n",
    "\n",
    "    Rad = r\n",
    "    G(V,E) //Graph containing edges and vertices\n",
    "    \n",
    "    For itr in range(0…n)\n",
    "        Xnew = RandomPosition()\n",
    "        \n",
    "        If Obstacle(Xnew) == True, try again\n",
    "        \n",
    "        Xnearest = Nearest(G(V,E),Xnew)\n",
    "        Cost(Xnew) = Distance(Xnew,Xnearest)\n",
    "        Xbest,Xneighbors = findNeighbors(G(V,E),Xnew,Rad)\n",
    "        Link = Chain(Xnew,Xbest)\n",
    "        \n",
    "        For x’ in Xneighbors\n",
    "            If Cost(Xnew) + Distance(Xnew,x’) < Cost(x’)\n",
    "                Cost(x’) = Cost(Xnew)+Distance(Xnew,x’)\n",
    "                Parent(x’) = Xnew\n",
    "                G += {Xnew,x’}\n",
    "                \n",
    "        G += Link \n",
    "    Return G"
   ]
  },
  {
   "cell_type": "code",
   "execution_count": 7,
   "metadata": {},
   "outputs": [],
   "source": [
    "def findNeighbours(node, root, rad, parent):\n",
    "    ans = []\n",
    "    if distance(root.data, node.data)<rad:\n",
    "        ans.append((root, parent))\n",
    "    else:\n",
    "        for i in root.children:\n",
    "            ans += findNeighbours(node, i, rad,root)\n",
    "#     print(ans)\n",
    "    return ans"
   ]
  },
  {
   "cell_type": "code",
   "execution_count": 12,
   "metadata": {},
   "outputs": [],
   "source": [
    "def RRTstar(start,goal,obstacle_list):\n",
    "    '''\n",
    "    Your RRT code goes here\n",
    "\n",
    "    The search space will be a rectangular space defined by\n",
    "    (0,0),(0,10),(10,0),(10,10)\n",
    "\n",
    "    Args:\n",
    "        start(tuple):start point coordinates.\n",
    "        goal (tuple):end point coordinates.\n",
    "        obstacle_list (list): list of all obstacles in the envrionment.\n",
    "\n",
    "    Returns:\n",
    "        path: You are free to decide what data structure used here.\n",
    "    '''\n",
    "    goalr = [(goal[0]-0.3,goal[1]-0.3),(goal[0]+0.3,goal[1]-0.3), (goal[0]+0.3,goal[1]+0.3), (goal[0]-0.3,goal[1]+0.3)]\n",
    "    Qgoal = dgoal(goalr)\n",
    "\n",
    "    obstacles = obst(obstacle_list)\n",
    "    \n",
    "    cnt = 0 \n",
    "    graph = Tree(Point(start[0],start[1])) #Graph containing edges and vertices, initialized as empty\n",
    "    cost = {}\n",
    "    cost[graph] = 0\n",
    "    \n",
    "    while cnt<5000:\n",
    "        \n",
    "        x  = random.random()*10\n",
    "        y  = random.random()*10\n",
    "        p = Point(x,y)\n",
    "        \n",
    "        xnew = Tree(p)\n",
    "#         print(\"Generated point\",p)\n",
    "        \n",
    "        if IsInObstacle(obstacles,p):\n",
    "#             print(\"Its in an obstacle\")\n",
    "            continue\n",
    "            \n",
    "        dist, xnearest = nearestNode(xnew, graph, 10**6) #find nearest vertex\n",
    "#         print(\"Nearest node\", xnearest)\n",
    "        \n",
    "        cost[xnew] = dist\n",
    "#         print(\"Assigned cost\",cost[xnew])\n",
    "    \n",
    "        line = LineString([xnearest.data,p])\n",
    "\n",
    "        if cost[xnew] >= 2:\n",
    "            p = line.interpolate(2)\n",
    "            x = p.x\n",
    "            y = p.y\n",
    "            line = LineString([xnearest.data,p])\n",
    "            xnew = Tree(Point(x,y))\n",
    "            cost[xnew] = 2\n",
    "            \n",
    "        if line.crosses(obstacles):\n",
    "#             print(\"Its line is in an obstacle\")\n",
    "            continue\n",
    "        \n",
    "        neighbours = findNeighbours(xnew, graph, 0.2, None)\n",
    "#         print(\"The neighbours are\", neighbours)\n",
    "        \n",
    "        for i,j in neighbours:\n",
    "            \n",
    "            if cost[xnew] + distance(xnew.data,i.data) < cost[i]:\n",
    "                cost[i] = cost[xnew]+distance(xnew.data,i.data)\n",
    "                line = LineString([p,i.data])\n",
    "                \n",
    "                if line.crosses(obstacles):\n",
    "                    continue\n",
    "                    \n",
    "                now = chain(xnew, i)\n",
    "                if j:\n",
    "                    j.children.remove(i)\n",
    "                    \n",
    "#                 print(\"Connected\",xnew.data,i.data)\n",
    "            \n",
    "                \n",
    "        last = chain(xnearest,xnew)   \n",
    "#         print(\"Connected\", xnearest.data, p)\n",
    "        \n",
    "        if IsInObstacle(Qgoal,p):\n",
    "            print(\"Found it!\")\n",
    "            return graph.tb(last),Qgoal\n",
    "\n",
    "        cnt+=1\n",
    "#         print(cnt)\n",
    "\n",
    "    return graph.tb(last),Qgoal"
   ]
  },
  {
   "cell_type": "code",
   "execution_count": 13,
   "metadata": {},
   "outputs": [
    {
     "name": "stdout",
     "output_type": "stream",
     "text": [
      "Found it!\n"
     ]
    },
    {
     "data": {
      "image/png": "[encoded data removed]",
      "text/plain": [
       "<Figure size 432x288 with 1 Axes>"
      ]
     },
     "metadata": {
      "needs_background": "light"
     },
     "output_type": "display_data"
    }
   ],
   "source": [
    "def test_rrtstar():\n",
    "    \n",
    "    obstacle_list = [\n",
    "            [(2, 10), (7, 10), (6, 7), (4, 7), (4, 9), (2, 9)],\n",
    "            [(3, 1), (3, 6), (4, 6), (4, 1)],\n",
    "            [(7, 3), (7, 8), (9, 8), (9, 3)],\n",
    "        ]\n",
    "\n",
    "    start = (1, 1)\n",
    "    goal = (10, 10)\n",
    "    \n",
    "    path = RRTstar(start,goal,obstacle_list)\n",
    "     \n",
    "    visualize(path[0],obstacle_list,path[1])\n",
    "\n",
    "test_rrtstar()"
   ]
  },
  {
   "cell_type": "markdown",
   "metadata": {},
   "source": [
    "### References\n",
    "Tim Chin, Robotic Path Planning: RRT and RRT*, Feb 14, 2019\n"
   ]
  }
 ],
 "metadata": {
  "kernelspec": {
   "display_name": "Python 3",
   "language": "python",
   "name": "python3"
  },
  "language_info": {
   "codemirror_mode": {
    "name": "ipython",
    "version": 3
   },
   "file_extension": ".py",
   "mimetype": "text/x-python",
   "name": "python",
   "nbconvert_exporter": "python",
   "pygments_lexer": "ipython3",
   "version": "3.7.3"
  }
 },
 "nbformat": 4,
 "nbformat_minor": 2
}
